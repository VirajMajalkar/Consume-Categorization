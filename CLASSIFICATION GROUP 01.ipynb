{
 "cells": [
  {
   "cell_type": "markdown",
   "metadata": {},
   "source": [
    "# Classification"
   ]
  },
  {
   "cell_type": "code",
   "execution_count": 1,
   "metadata": {},
   "outputs": [],
   "source": [
    "import pandas as pd"
   ]
  },
  {
   "cell_type": "code",
   "execution_count": 2,
   "metadata": {},
   "outputs": [],
   "source": [
    "df=pd.read_excel('Classification Data.xlsx')"
   ]
  },
  {
   "cell_type": "code",
   "execution_count": 3,
   "metadata": {
    "scrolled": true
   },
   "outputs": [
    {
     "data": {
      "text/html": [
       "<div>\n",
       "<style scoped>\n",
       "    .dataframe tbody tr th:only-of-type {\n",
       "        vertical-align: middle;\n",
       "    }\n",
       "\n",
       "    .dataframe tbody tr th {\n",
       "        vertical-align: top;\n",
       "    }\n",
       "\n",
       "    .dataframe thead th {\n",
       "        text-align: right;\n",
       "    }\n",
       "</style>\n",
       "<table border=\"1\" class=\"dataframe\">\n",
       "  <thead>\n",
       "    <tr style=\"text-align: right;\">\n",
       "      <th></th>\n",
       "      <th>Serial No.</th>\n",
       "      <th>Period</th>\n",
       "      <th>City</th>\n",
       "      <th>Age</th>\n",
       "      <th>Lowe Range</th>\n",
       "      <th>Upper Range</th>\n",
       "      <th>Gender</th>\n",
       "      <th>Annual Income</th>\n",
       "      <th>Assembly Constituency Name</th>\n",
       "      <th>Educational Qualification</th>\n",
       "      <th>No. of Family Members</th>\n",
       "      <th>No. of Earning members in the family</th>\n",
       "      <th>Occupation of Respondent</th>\n",
       "    </tr>\n",
       "  </thead>\n",
       "  <tbody>\n",
       "    <tr>\n",
       "      <th>0</th>\n",
       "      <td>1</td>\n",
       "      <td>2019-07-31</td>\n",
       "      <td>Ahmedabad</td>\n",
       "      <td>22-29 year</td>\n",
       "      <td>22</td>\n",
       "      <td>29</td>\n",
       "      <td>Female</td>\n",
       "      <td>Rs. 1 lakh or less</td>\n",
       "      <td>Amaraiwadi</td>\n",
       "      <td>12th Std</td>\n",
       "      <td>5 and more</td>\n",
       "      <td>3.0</td>\n",
       "      <td>House wife</td>\n",
       "    </tr>\n",
       "    <tr>\n",
       "      <th>1</th>\n",
       "      <td>2</td>\n",
       "      <td>2019-07-31</td>\n",
       "      <td>Ahmedabad</td>\n",
       "      <td>22-29 year</td>\n",
       "      <td>22</td>\n",
       "      <td>29</td>\n",
       "      <td>Female</td>\n",
       "      <td>Rs. 1 lakh or less</td>\n",
       "      <td>Amaraiwadi</td>\n",
       "      <td>5th Std-Below 10th Std</td>\n",
       "      <td>5 and more</td>\n",
       "      <td>2.0</td>\n",
       "      <td>Daily worker</td>\n",
       "    </tr>\n",
       "    <tr>\n",
       "      <th>2</th>\n",
       "      <td>3</td>\n",
       "      <td>2019-07-31</td>\n",
       "      <td>Ahmedabad</td>\n",
       "      <td>22-29 year</td>\n",
       "      <td>22</td>\n",
       "      <td>29</td>\n",
       "      <td>Female</td>\n",
       "      <td>Rs. 1 lakh or less</td>\n",
       "      <td>Amaraiwadi</td>\n",
       "      <td>Below 5th Std</td>\n",
       "      <td>3 or 4</td>\n",
       "      <td>1.0</td>\n",
       "      <td>House wife</td>\n",
       "    </tr>\n",
       "    <tr>\n",
       "      <th>3</th>\n",
       "      <td>4</td>\n",
       "      <td>2019-07-31</td>\n",
       "      <td>Ahmedabad</td>\n",
       "      <td>22-29 year</td>\n",
       "      <td>22</td>\n",
       "      <td>29</td>\n",
       "      <td>Female</td>\n",
       "      <td>Rs. 1 lakh or less</td>\n",
       "      <td>Amaraiwadi</td>\n",
       "      <td>Graduate</td>\n",
       "      <td>5 and more</td>\n",
       "      <td>1.0</td>\n",
       "      <td>House wife</td>\n",
       "    </tr>\n",
       "    <tr>\n",
       "      <th>4</th>\n",
       "      <td>5</td>\n",
       "      <td>2019-07-31</td>\n",
       "      <td>Ahmedabad</td>\n",
       "      <td>NaN</td>\n",
       "      <td>22</td>\n",
       "      <td>29</td>\n",
       "      <td>Female</td>\n",
       "      <td>Rs. 1 lakh or less</td>\n",
       "      <td>Amaraiwadi</td>\n",
       "      <td>Illiterate</td>\n",
       "      <td>5 and more</td>\n",
       "      <td>1.0</td>\n",
       "      <td>House wife</td>\n",
       "    </tr>\n",
       "    <tr>\n",
       "      <th>...</th>\n",
       "      <td>...</td>\n",
       "      <td>...</td>\n",
       "      <td>...</td>\n",
       "      <td>...</td>\n",
       "      <td>...</td>\n",
       "      <td>...</td>\n",
       "      <td>...</td>\n",
       "      <td>...</td>\n",
       "      <td>...</td>\n",
       "      <td>...</td>\n",
       "      <td>...</td>\n",
       "      <td>...</td>\n",
       "      <td>...</td>\n",
       "    </tr>\n",
       "    <tr>\n",
       "      <th>5346</th>\n",
       "      <td>5347</td>\n",
       "      <td>2019-07-31</td>\n",
       "      <td>Trivandrum</td>\n",
       "      <td>60  &amp;amp; above year</td>\n",
       "      <td>60</td>\n",
       "      <td>100</td>\n",
       "      <td>Male</td>\n",
       "      <td>Rs. 1 to less than 3 lakh</td>\n",
       "      <td>Nemom</td>\n",
       "      <td>10th Std-Below 12th Std</td>\n",
       "      <td>3 or 4</td>\n",
       "      <td>2.0</td>\n",
       "      <td>Retired/Pensioners</td>\n",
       "    </tr>\n",
       "    <tr>\n",
       "      <th>5347</th>\n",
       "      <td>5348</td>\n",
       "      <td>2019-07-31</td>\n",
       "      <td>Trivandrum</td>\n",
       "      <td>60  &amp;amp; above year</td>\n",
       "      <td>60</td>\n",
       "      <td>100</td>\n",
       "      <td>Male</td>\n",
       "      <td>Rs. 1 to less than 3 lakh</td>\n",
       "      <td>Nemom</td>\n",
       "      <td>10th Std-Below 12th Std</td>\n",
       "      <td>3 or 4</td>\n",
       "      <td>2.0</td>\n",
       "      <td>Retired/Pensioners</td>\n",
       "    </tr>\n",
       "    <tr>\n",
       "      <th>5348</th>\n",
       "      <td>5349</td>\n",
       "      <td>2019-07-31</td>\n",
       "      <td>Trivandrum</td>\n",
       "      <td>60  &amp;amp; above year</td>\n",
       "      <td>60</td>\n",
       "      <td>100</td>\n",
       "      <td>Male</td>\n",
       "      <td>Rs. 1 to less than 3 lakh</td>\n",
       "      <td>Nemom</td>\n",
       "      <td>12th Std</td>\n",
       "      <td>1 to 2</td>\n",
       "      <td>1.0</td>\n",
       "      <td>Employed</td>\n",
       "    </tr>\n",
       "    <tr>\n",
       "      <th>5349</th>\n",
       "      <td>5350</td>\n",
       "      <td>2019-07-31</td>\n",
       "      <td>Trivandrum</td>\n",
       "      <td>60  &amp;amp; above year</td>\n",
       "      <td>60</td>\n",
       "      <td>100</td>\n",
       "      <td>Male</td>\n",
       "      <td>Rs. 1 to less than 3 lakh</td>\n",
       "      <td>Nemom</td>\n",
       "      <td>5th Std-Below 10th Std</td>\n",
       "      <td>3 or 4</td>\n",
       "      <td>3.0</td>\n",
       "      <td>Retired/Pensioners</td>\n",
       "    </tr>\n",
       "    <tr>\n",
       "      <th>5350</th>\n",
       "      <td>5351</td>\n",
       "      <td>2019-07-31</td>\n",
       "      <td>Trivandrum</td>\n",
       "      <td>60  &amp;amp; above year</td>\n",
       "      <td>60</td>\n",
       "      <td>100</td>\n",
       "      <td>Male</td>\n",
       "      <td>Rs. 1 to less than 3 lakh</td>\n",
       "      <td>Thiruvananthapuram</td>\n",
       "      <td>10th Std-Below 12th Std</td>\n",
       "      <td>5 and more</td>\n",
       "      <td>2.0</td>\n",
       "      <td>Retired/Pensioners</td>\n",
       "    </tr>\n",
       "  </tbody>\n",
       "</table>\n",
       "<p>5351 rows × 13 columns</p>\n",
       "</div>"
      ],
      "text/plain": [
       "      Serial No.     Period        City                   Age  Lowe Range  \\\n",
       "0              1 2019-07-31   Ahmedabad            22-29 year          22   \n",
       "1              2 2019-07-31   Ahmedabad            22-29 year          22   \n",
       "2              3 2019-07-31   Ahmedabad            22-29 year          22   \n",
       "3              4 2019-07-31   Ahmedabad            22-29 year          22   \n",
       "4              5 2019-07-31   Ahmedabad                   NaN          22   \n",
       "...          ...        ...         ...                   ...         ...   \n",
       "5346        5347 2019-07-31  Trivandrum  60  &amp; above year          60   \n",
       "5347        5348 2019-07-31  Trivandrum  60  &amp; above year          60   \n",
       "5348        5349 2019-07-31  Trivandrum  60  &amp; above year          60   \n",
       "5349        5350 2019-07-31  Trivandrum  60  &amp; above year          60   \n",
       "5350        5351 2019-07-31  Trivandrum  60  &amp; above year          60   \n",
       "\n",
       "      Upper Range  Gender              Annual Income  \\\n",
       "0              29  Female         Rs. 1 lakh or less   \n",
       "1              29  Female         Rs. 1 lakh or less   \n",
       "2              29  Female         Rs. 1 lakh or less   \n",
       "3              29  Female         Rs. 1 lakh or less   \n",
       "4              29  Female         Rs. 1 lakh or less   \n",
       "...           ...     ...                        ...   \n",
       "5346          100    Male  Rs. 1 to less than 3 lakh   \n",
       "5347          100    Male  Rs. 1 to less than 3 lakh   \n",
       "5348          100    Male  Rs. 1 to less than 3 lakh   \n",
       "5349          100    Male  Rs. 1 to less than 3 lakh   \n",
       "5350          100    Male  Rs. 1 to less than 3 lakh   \n",
       "\n",
       "     Assembly Constituency Name Educational Qualification  \\\n",
       "0                    Amaraiwadi                  12th Std   \n",
       "1                    Amaraiwadi    5th Std-Below 10th Std   \n",
       "2                    Amaraiwadi             Below 5th Std   \n",
       "3                    Amaraiwadi                  Graduate   \n",
       "4                    Amaraiwadi                Illiterate   \n",
       "...                         ...                       ...   \n",
       "5346                      Nemom   10th Std-Below 12th Std   \n",
       "5347                      Nemom   10th Std-Below 12th Std   \n",
       "5348                      Nemom                  12th Std   \n",
       "5349                      Nemom    5th Std-Below 10th Std   \n",
       "5350         Thiruvananthapuram   10th Std-Below 12th Std   \n",
       "\n",
       "     No. of Family Members  No. of Earning members in the family  \\\n",
       "0               5 and more                                   3.0   \n",
       "1               5 and more                                   2.0   \n",
       "2                   3 or 4                                   1.0   \n",
       "3               5 and more                                   1.0   \n",
       "4               5 and more                                   1.0   \n",
       "...                    ...                                   ...   \n",
       "5346                3 or 4                                   2.0   \n",
       "5347                3 or 4                                   2.0   \n",
       "5348                1 to 2                                   1.0   \n",
       "5349                3 or 4                                   3.0   \n",
       "5350            5 and more                                   2.0   \n",
       "\n",
       "     Occupation of Respondent  \n",
       "0                  House wife  \n",
       "1                Daily worker  \n",
       "2                  House wife  \n",
       "3                  House wife  \n",
       "4                  House wife  \n",
       "...                       ...  \n",
       "5346       Retired/Pensioners  \n",
       "5347       Retired/Pensioners  \n",
       "5348                 Employed  \n",
       "5349       Retired/Pensioners  \n",
       "5350       Retired/Pensioners  \n",
       "\n",
       "[5351 rows x 13 columns]"
      ]
     },
     "execution_count": 3,
     "metadata": {},
     "output_type": "execute_result"
    }
   ],
   "source": [
    "df"
   ]
  },
  {
   "cell_type": "code",
   "execution_count": 4,
   "metadata": {},
   "outputs": [
    {
     "data": {
      "text/plain": [
       "(5351, 13)"
      ]
     },
     "execution_count": 4,
     "metadata": {},
     "output_type": "execute_result"
    }
   ],
   "source": [
    "df.shape"
   ]
  },
  {
   "cell_type": "code",
   "execution_count": 5,
   "metadata": {},
   "outputs": [
    {
     "data": {
      "text/plain": [
       "Index(['Serial No.', 'Period', 'City', 'Age', 'Lowe Range', 'Upper Range',\n",
       "       'Gender', 'Annual Income', 'Assembly Constituency Name',\n",
       "       'Educational Qualification', 'No. of Family Members',\n",
       "       'No. of Earning members in the family', 'Occupation of Respondent'],\n",
       "      dtype='object')"
      ]
     },
     "execution_count": 5,
     "metadata": {},
     "output_type": "execute_result"
    }
   ],
   "source": [
    "df.columns"
   ]
  },
  {
   "cell_type": "code",
   "execution_count": 6,
   "metadata": {
    "scrolled": true
   },
   "outputs": [
    {
     "name": "stdout",
     "output_type": "stream",
     "text": [
      "Different City:\n",
      " Delhi         957\n",
      "Mumbai        895\n",
      "Bengaluru     699\n",
      "Kolkata       649\n",
      "Hyderbad      498\n",
      "Ahmedabad     399\n",
      "Chennai       399\n",
      "Jaipur        200\n",
      "Lucknow       200\n",
      "Bhopal        149\n",
      "Patna         100\n",
      "Trivandrum    100\n",
      "Guwahati      100\n",
      "Name: City, dtype: int64 \n",
      "\n",
      "Total no. of city: (13,) \n",
      "\n",
      "Annual Income:\n",
      " Rs. 1 to less than 3 lakh    2739\n",
      "Rs. 1 lakh or less           1960\n",
      "Rs. 3 lakh to 5 lakh          461\n",
      "Rs. 5 lakh or more            180\n",
      "Name: Annual Income, dtype: int64 \n",
      "\n",
      "Total Income Group: (4,) \n",
      "\n",
      "Different Lower Age:\n",
      " 40    1746\n",
      "22    1585\n",
      "30    1470\n",
      "60     550\n",
      "Name: Lowe Range, dtype: int64 \n",
      "\n",
      "Total count of age: (4,) \n",
      "\n",
      "Different Upper Age:\n",
      " 59     1746\n",
      "29     1585\n",
      "39     1470\n",
      "100     550\n",
      "Name: Upper Range, dtype: int64 \n",
      "\n",
      "Total count of age: (4,) \n",
      "\n",
      "Gender:\n",
      " Male      2901\n",
      "Female    2445\n",
      "Name: Gender, dtype: int64 \n",
      "\n",
      "Total: (2,) \n",
      "\n",
      "Different Assembly Name:\n",
      " Amaraiwadi             57\n",
      "Kashipur-Belgachhia    55\n",
      "Thakakarbapa nagar     46\n",
      "NARELA                 45\n",
      "Khardaha               45\n",
      "                       ..\n",
      "TRILOKPURI             12\n",
      "ROHINI                 12\n",
      "Thiruvananthapuram     11\n",
      "CHHATARPUR             11\n",
      "SEELAMPUR               3\n",
      "Name: Assembly Constituency Name, Length: 224, dtype: int64 \n",
      "\n",
      "Total Assembly: (224,) \n",
      "\n",
      "Different Education:\n",
      " 5th Std-Below 10th Std     1326\n",
      "Graduate                   1113\n",
      "10th Std-Below 12th Std    1093\n",
      "12th Std                    837\n",
      "Illiterate                  386\n",
      "Post Graduate               295\n",
      "Below 5th Std               290\n",
      "Name: Educational Qualification, dtype: int64 \n",
      "\n",
      "Total category type: (7,) \n",
      "\n",
      "Different No. of Family Members:\n",
      " 3 or 4        2541\n",
      "5 and more    2359\n",
      "1 to 2         443\n",
      "Name: No. of Family Members, dtype: int64 \n",
      "\n",
      "Total category count: (3,) \n",
      "\n",
      "Different Occupation:\n",
      " House wife                 1742\n",
      "Employed                   1205\n",
      "Self Employed/ Business    1013\n",
      "Daily worker                595\n",
      "Unemployed                  511\n",
      "Retired/Pensioners          273\n",
      "Name: Occupation of Respondent, dtype: int64 \n",
      "\n",
      "Total category count: (6,) \n",
      "\n",
      "Different No. of Earning members in the family:\n",
      " 1.0     3077\n",
      "2.0     1580\n",
      "3.0      469\n",
      "4.0      144\n",
      "5.0       50\n",
      "6.0       14\n",
      "7.0        4\n",
      "8.0        3\n",
      "10.0       3\n",
      "Name: No. of Earning members in the family, dtype: int64 \n",
      "\n",
      "Total category count: (9,) \n",
      "\n"
     ]
    }
   ],
   "source": [
    "print(\"Different City:\\n\",df['City'].value_counts(),\"\\n\")\n",
    "print(\"Total no. of city:\",df['City'].value_counts().shape,'\\n')\n",
    "\n",
    "print(\"Annual Income:\\n\",df['Annual Income'].value_counts(),\"\\n\")\n",
    "print(\"Total Income Group:\",df['Annual Income'].value_counts().shape,\"\\n\")\n",
    "\n",
    "print(\"Different Lower Age:\\n\",df['Lowe Range'].value_counts(),\"\\n\")\n",
    "print(\"Total count of age:\",df['Lowe Range'].value_counts().shape,'\\n')\n",
    "print(\"Different Upper Age:\\n\",df['Upper Range'].value_counts(),\"\\n\")\n",
    "print(\"Total count of age:\",df['Upper Range'].value_counts().shape,'\\n')\n",
    "\n",
    "print(\"Gender:\\n\",df['Gender'].value_counts(),\"\\n\")\n",
    "print(\"Total:\",df['Gender'].value_counts().shape,'\\n')\n",
    "\n",
    "print(\"Different Assembly Name:\\n\",df['Assembly Constituency Name'].value_counts(),\"\\n\")\n",
    "print(\"Total Assembly:\",df['Assembly Constituency Name'].value_counts().shape,'\\n')\n",
    "\n",
    "print(\"Different Education:\\n\",df['Educational Qualification'].value_counts(),\"\\n\")\n",
    "print(\"Total category type:\",df['Educational Qualification'].value_counts().shape,'\\n')\n",
    "\n",
    "print(\"Different No. of Family Members:\\n\",df['No. of Family Members'].value_counts(),\"\\n\")\n",
    "print(\"Total category count:\",df['No. of Family Members'].value_counts().shape,'\\n')\n",
    "\n",
    "print(\"Different Occupation:\\n\",df['Occupation of Respondent'].value_counts(),\"\\n\")\n",
    "print(\"Total category count:\",df['Occupation of Respondent'].value_counts().shape,'\\n')\n",
    "\n",
    "print(\"Different No. of Earning members in the family:\\n\",df['No. of Earning members in the family'].value_counts(),\"\\n\")\n",
    "print(\"Total category count:\",df['No. of Earning members in the family'].value_counts().shape,'\\n')"
   ]
  },
  {
   "cell_type": "code",
   "execution_count": 7,
   "metadata": {
    "scrolled": true
   },
   "outputs": [],
   "source": [
    "df=df.drop(['Serial No.','Period','Age'],axis=1)"
   ]
  },
  {
   "cell_type": "code",
   "execution_count": 8,
   "metadata": {},
   "outputs": [
    {
     "name": "stdout",
     "output_type": "stream",
     "text": [
      "<class 'pandas.core.frame.DataFrame'>\n",
      "RangeIndex: 5351 entries, 0 to 5350\n",
      "Data columns (total 10 columns):\n",
      "City                                    5345 non-null object\n",
      "Lowe Range                              5351 non-null int64\n",
      "Upper Range                             5351 non-null int64\n",
      "Gender                                  5346 non-null object\n",
      "Annual Income                           5340 non-null object\n",
      "Assembly Constituency Name              5344 non-null object\n",
      "Educational Qualification               5340 non-null object\n",
      "No. of Family Members                   5343 non-null object\n",
      "No. of Earning members in the family    5344 non-null float64\n",
      "Occupation of Respondent                5339 non-null object\n",
      "dtypes: float64(1), int64(2), object(7)\n",
      "memory usage: 418.2+ KB\n"
     ]
    }
   ],
   "source": [
    "df.info()"
   ]
  },
  {
   "cell_type": "code",
   "execution_count": 9,
   "metadata": {
    "scrolled": false
   },
   "outputs": [
    {
     "data": {
      "text/plain": [
       "City                                     6\n",
       "Lowe Range                               0\n",
       "Upper Range                              0\n",
       "Gender                                   5\n",
       "Annual Income                           11\n",
       "Assembly Constituency Name               7\n",
       "Educational Qualification               11\n",
       "No. of Family Members                    8\n",
       "No. of Earning members in the family     7\n",
       "Occupation of Respondent                12\n",
       "dtype: int64"
      ]
     },
     "execution_count": 9,
     "metadata": {},
     "output_type": "execute_result"
    }
   ],
   "source": [
    "df.isnull().sum()"
   ]
  },
  {
   "cell_type": "code",
   "execution_count": 10,
   "metadata": {
    "scrolled": true
   },
   "outputs": [
    {
     "data": {
      "text/plain": [
       "City                                    0\n",
       "Lowe Range                              0\n",
       "Upper Range                             0\n",
       "Gender                                  0\n",
       "Annual Income                           0\n",
       "Assembly Constituency Name              0\n",
       "Educational Qualification               0\n",
       "No. of Family Members                   0\n",
       "No. of Earning members in the family    0\n",
       "Occupation of Respondent                0\n",
       "dtype: int64"
      ]
     },
     "execution_count": 10,
     "metadata": {},
     "output_type": "execute_result"
    }
   ],
   "source": [
    "df=df.fillna(method='ffill')\n",
    "df.isnull().sum()"
   ]
  },
  {
   "cell_type": "code",
   "execution_count": 11,
   "metadata": {
    "scrolled": true
   },
   "outputs": [
    {
     "data": {
      "text/html": [
       "<div>\n",
       "<style scoped>\n",
       "    .dataframe tbody tr th:only-of-type {\n",
       "        vertical-align: middle;\n",
       "    }\n",
       "\n",
       "    .dataframe tbody tr th {\n",
       "        vertical-align: top;\n",
       "    }\n",
       "\n",
       "    .dataframe thead th {\n",
       "        text-align: right;\n",
       "    }\n",
       "</style>\n",
       "<table border=\"1\" class=\"dataframe\">\n",
       "  <thead>\n",
       "    <tr style=\"text-align: right;\">\n",
       "      <th></th>\n",
       "      <th>Lowe Range</th>\n",
       "      <th>Upper Range</th>\n",
       "      <th>No. of Earning members in the family</th>\n",
       "    </tr>\n",
       "  </thead>\n",
       "  <tbody>\n",
       "    <tr>\n",
       "      <th>Lowe Range</th>\n",
       "      <td>1.000000</td>\n",
       "      <td>0.994906</td>\n",
       "      <td>-0.091656</td>\n",
       "    </tr>\n",
       "    <tr>\n",
       "      <th>Upper Range</th>\n",
       "      <td>0.994906</td>\n",
       "      <td>1.000000</td>\n",
       "      <td>-0.077670</td>\n",
       "    </tr>\n",
       "    <tr>\n",
       "      <th>No. of Earning members in the family</th>\n",
       "      <td>-0.091656</td>\n",
       "      <td>-0.077670</td>\n",
       "      <td>1.000000</td>\n",
       "    </tr>\n",
       "  </tbody>\n",
       "</table>\n",
       "</div>"
      ],
      "text/plain": [
       "                                      Lowe Range  Upper Range  \\\n",
       "Lowe Range                              1.000000     0.994906   \n",
       "Upper Range                             0.994906     1.000000   \n",
       "No. of Earning members in the family   -0.091656    -0.077670   \n",
       "\n",
       "                                      No. of Earning members in the family  \n",
       "Lowe Range                                                       -0.091656  \n",
       "Upper Range                                                      -0.077670  \n",
       "No. of Earning members in the family                              1.000000  "
      ]
     },
     "execution_count": 11,
     "metadata": {},
     "output_type": "execute_result"
    }
   ],
   "source": [
    "df.corr()"
   ]
  },
  {
   "cell_type": "code",
   "execution_count": 12,
   "metadata": {
    "scrolled": false
   },
   "outputs": [
    {
     "data": {
      "text/plain": [
       "City                                     object\n",
       "Lowe Range                                int64\n",
       "Upper Range                               int64\n",
       "Gender                                   object\n",
       "Annual Income                            object\n",
       "Assembly Constituency Name               object\n",
       "Educational Qualification                object\n",
       "No. of Family Members                    object\n",
       "No. of Earning members in the family    float64\n",
       "Occupation of Respondent                 object\n",
       "dtype: object"
      ]
     },
     "execution_count": 12,
     "metadata": {},
     "output_type": "execute_result"
    }
   ],
   "source": [
    "df.dtypes"
   ]
  },
  {
   "cell_type": "code",
   "execution_count": 13,
   "metadata": {
    "scrolled": false
   },
   "outputs": [],
   "source": [
    "df['Annual Income'].replace(['Rs. 1 to less than 3 lakh', 'Rs. 1 lakh or less'], '0')\n",
    "\n",
    "df['Annual Income'] = df['Annual Income'].replace(['Rs. 1 to less than 3 lakh', 'Rs. 1 lakh or less'], '0')"
   ]
  },
  {
   "cell_type": "code",
   "execution_count": 14,
   "metadata": {},
   "outputs": [],
   "source": [
    "df['Annual Income'].replace(['Rs. 3 lakh to 5 lakh', 'Rs. 5 lakh or more'], '1')\n",
    "\n",
    "df['Annual Income']= df['Annual Income'].replace(['Rs. 3 lakh to 5 lakh', 'Rs. 5 lakh or more'], '1')"
   ]
  },
  {
   "cell_type": "code",
   "execution_count": 15,
   "metadata": {
    "scrolled": true
   },
   "outputs": [
    {
     "name": "stdout",
     "output_type": "stream",
     "text": [
      "Annual Income:\n",
      " 0    4710\n",
      "1     641\n",
      "Name: Annual Income, dtype: int64 \n",
      "\n",
      "Total Income Group: (2,) \n",
      "\n"
     ]
    }
   ],
   "source": [
    "print(\"Annual Income:\\n\",df['Annual Income'].value_counts(),\"\\n\")\n",
    "print(\"Total Income Group:\",df['Annual Income'].value_counts().shape,\"\\n\")"
   ]
  },
  {
   "cell_type": "code",
   "execution_count": 16,
   "metadata": {},
   "outputs": [],
   "source": [
    "from sklearn.preprocessing import LabelEncoder\n",
    "\n",
    "le=LabelEncoder()\n",
    "df['Gender']=le.fit_transform(df['Gender'])\n",
    "df['Annual Income']=le.fit_transform(df['Annual Income'])\n",
    "df['City']=le.fit_transform(df['City'])\n",
    "df['Occupation of Respondent']=le.fit_transform(df['Occupation of Respondent'])\n",
    "df['No. of Family Members']=le.fit_transform(df['No. of Family Members'])\n",
    "df['Educational Qualification']=le.fit_transform(df['Educational Qualification'])\n",
    "df['Assembly Constituency Name']=le.fit_transform(df['Assembly Constituency Name'])\n",
    "df['No. of Earning members in the family']=le.fit_transform(df['No. of Earning members in the family'])"
   ]
  },
  {
   "cell_type": "code",
   "execution_count": 17,
   "metadata": {
    "scrolled": false
   },
   "outputs": [
    {
     "data": {
      "text/html": [
       "<div>\n",
       "<style scoped>\n",
       "    .dataframe tbody tr th:only-of-type {\n",
       "        vertical-align: middle;\n",
       "    }\n",
       "\n",
       "    .dataframe tbody tr th {\n",
       "        vertical-align: top;\n",
       "    }\n",
       "\n",
       "    .dataframe thead th {\n",
       "        text-align: right;\n",
       "    }\n",
       "</style>\n",
       "<table border=\"1\" class=\"dataframe\">\n",
       "  <thead>\n",
       "    <tr style=\"text-align: right;\">\n",
       "      <th></th>\n",
       "      <th>City</th>\n",
       "      <th>Lowe Range</th>\n",
       "      <th>Upper Range</th>\n",
       "      <th>Gender</th>\n",
       "      <th>Annual Income</th>\n",
       "      <th>Assembly Constituency Name</th>\n",
       "      <th>Educational Qualification</th>\n",
       "      <th>No. of Family Members</th>\n",
       "      <th>No. of Earning members in the family</th>\n",
       "      <th>Occupation of Respondent</th>\n",
       "    </tr>\n",
       "  </thead>\n",
       "  <tbody>\n",
       "    <tr>\n",
       "      <th>City</th>\n",
       "      <td>1.000000</td>\n",
       "      <td>0.006975</td>\n",
       "      <td>0.010965</td>\n",
       "      <td>0.080782</td>\n",
       "      <td>0.021732</td>\n",
       "      <td>0.015449</td>\n",
       "      <td>0.027746</td>\n",
       "      <td>0.006253</td>\n",
       "      <td>0.036361</td>\n",
       "      <td>0.031308</td>\n",
       "    </tr>\n",
       "    <tr>\n",
       "      <th>Lowe Range</th>\n",
       "      <td>0.006975</td>\n",
       "      <td>1.000000</td>\n",
       "      <td>0.994906</td>\n",
       "      <td>0.039919</td>\n",
       "      <td>0.014170</td>\n",
       "      <td>-0.000610</td>\n",
       "      <td>-0.019711</td>\n",
       "      <td>-0.073695</td>\n",
       "      <td>-0.091495</td>\n",
       "      <td>0.014980</td>\n",
       "    </tr>\n",
       "    <tr>\n",
       "      <th>Upper Range</th>\n",
       "      <td>0.010965</td>\n",
       "      <td>0.994906</td>\n",
       "      <td>1.000000</td>\n",
       "      <td>0.051923</td>\n",
       "      <td>0.020567</td>\n",
       "      <td>-0.005111</td>\n",
       "      <td>-0.013393</td>\n",
       "      <td>-0.075572</td>\n",
       "      <td>-0.077507</td>\n",
       "      <td>0.033407</td>\n",
       "    </tr>\n",
       "    <tr>\n",
       "      <th>Gender</th>\n",
       "      <td>0.080782</td>\n",
       "      <td>0.039919</td>\n",
       "      <td>0.051923</td>\n",
       "      <td>1.000000</td>\n",
       "      <td>0.099635</td>\n",
       "      <td>0.017443</td>\n",
       "      <td>-0.009126</td>\n",
       "      <td>0.006457</td>\n",
       "      <td>0.092385</td>\n",
       "      <td>0.085895</td>\n",
       "    </tr>\n",
       "    <tr>\n",
       "      <th>Annual Income</th>\n",
       "      <td>0.021732</td>\n",
       "      <td>0.014170</td>\n",
       "      <td>0.020567</td>\n",
       "      <td>0.099635</td>\n",
       "      <td>1.000000</td>\n",
       "      <td>0.059973</td>\n",
       "      <td>0.157326</td>\n",
       "      <td>0.105107</td>\n",
       "      <td>0.218136</td>\n",
       "      <td>0.066010</td>\n",
       "    </tr>\n",
       "    <tr>\n",
       "      <th>Assembly Constituency Name</th>\n",
       "      <td>0.015449</td>\n",
       "      <td>-0.000610</td>\n",
       "      <td>-0.005111</td>\n",
       "      <td>0.017443</td>\n",
       "      <td>0.059973</td>\n",
       "      <td>1.000000</td>\n",
       "      <td>-0.025868</td>\n",
       "      <td>-0.041066</td>\n",
       "      <td>-0.015252</td>\n",
       "      <td>-0.004670</td>\n",
       "    </tr>\n",
       "    <tr>\n",
       "      <th>Educational Qualification</th>\n",
       "      <td>0.027746</td>\n",
       "      <td>-0.019711</td>\n",
       "      <td>-0.013393</td>\n",
       "      <td>-0.009126</td>\n",
       "      <td>0.157326</td>\n",
       "      <td>-0.025868</td>\n",
       "      <td>1.000000</td>\n",
       "      <td>0.010479</td>\n",
       "      <td>0.044843</td>\n",
       "      <td>0.022104</td>\n",
       "    </tr>\n",
       "    <tr>\n",
       "      <th>No. of Family Members</th>\n",
       "      <td>0.006253</td>\n",
       "      <td>-0.073695</td>\n",
       "      <td>-0.075572</td>\n",
       "      <td>0.006457</td>\n",
       "      <td>0.105107</td>\n",
       "      <td>-0.041066</td>\n",
       "      <td>0.010479</td>\n",
       "      <td>1.000000</td>\n",
       "      <td>0.313214</td>\n",
       "      <td>0.034868</td>\n",
       "    </tr>\n",
       "    <tr>\n",
       "      <th>No. of Earning members in the family</th>\n",
       "      <td>0.036361</td>\n",
       "      <td>-0.091495</td>\n",
       "      <td>-0.077507</td>\n",
       "      <td>0.092385</td>\n",
       "      <td>0.218136</td>\n",
       "      <td>-0.015252</td>\n",
       "      <td>0.044843</td>\n",
       "      <td>0.313214</td>\n",
       "      <td>1.000000</td>\n",
       "      <td>-0.047332</td>\n",
       "    </tr>\n",
       "    <tr>\n",
       "      <th>Occupation of Respondent</th>\n",
       "      <td>0.031308</td>\n",
       "      <td>0.014980</td>\n",
       "      <td>0.033407</td>\n",
       "      <td>0.085895</td>\n",
       "      <td>0.066010</td>\n",
       "      <td>-0.004670</td>\n",
       "      <td>0.022104</td>\n",
       "      <td>0.034868</td>\n",
       "      <td>-0.047332</td>\n",
       "      <td>1.000000</td>\n",
       "    </tr>\n",
       "  </tbody>\n",
       "</table>\n",
       "</div>"
      ],
      "text/plain": [
       "                                          City  Lowe Range  Upper Range  \\\n",
       "City                                  1.000000    0.006975     0.010965   \n",
       "Lowe Range                            0.006975    1.000000     0.994906   \n",
       "Upper Range                           0.010965    0.994906     1.000000   \n",
       "Gender                                0.080782    0.039919     0.051923   \n",
       "Annual Income                         0.021732    0.014170     0.020567   \n",
       "Assembly Constituency Name            0.015449   -0.000610    -0.005111   \n",
       "Educational Qualification             0.027746   -0.019711    -0.013393   \n",
       "No. of Family Members                 0.006253   -0.073695    -0.075572   \n",
       "No. of Earning members in the family  0.036361   -0.091495    -0.077507   \n",
       "Occupation of Respondent              0.031308    0.014980     0.033407   \n",
       "\n",
       "                                        Gender  Annual Income  \\\n",
       "City                                  0.080782       0.021732   \n",
       "Lowe Range                            0.039919       0.014170   \n",
       "Upper Range                           0.051923       0.020567   \n",
       "Gender                                1.000000       0.099635   \n",
       "Annual Income                         0.099635       1.000000   \n",
       "Assembly Constituency Name            0.017443       0.059973   \n",
       "Educational Qualification            -0.009126       0.157326   \n",
       "No. of Family Members                 0.006457       0.105107   \n",
       "No. of Earning members in the family  0.092385       0.218136   \n",
       "Occupation of Respondent              0.085895       0.066010   \n",
       "\n",
       "                                      Assembly Constituency Name  \\\n",
       "City                                                    0.015449   \n",
       "Lowe Range                                             -0.000610   \n",
       "Upper Range                                            -0.005111   \n",
       "Gender                                                  0.017443   \n",
       "Annual Income                                           0.059973   \n",
       "Assembly Constituency Name                              1.000000   \n",
       "Educational Qualification                              -0.025868   \n",
       "No. of Family Members                                  -0.041066   \n",
       "No. of Earning members in the family                   -0.015252   \n",
       "Occupation of Respondent                               -0.004670   \n",
       "\n",
       "                                      Educational Qualification  \\\n",
       "City                                                   0.027746   \n",
       "Lowe Range                                            -0.019711   \n",
       "Upper Range                                           -0.013393   \n",
       "Gender                                                -0.009126   \n",
       "Annual Income                                          0.157326   \n",
       "Assembly Constituency Name                            -0.025868   \n",
       "Educational Qualification                              1.000000   \n",
       "No. of Family Members                                  0.010479   \n",
       "No. of Earning members in the family                   0.044843   \n",
       "Occupation of Respondent                               0.022104   \n",
       "\n",
       "                                      No. of Family Members  \\\n",
       "City                                               0.006253   \n",
       "Lowe Range                                        -0.073695   \n",
       "Upper Range                                       -0.075572   \n",
       "Gender                                             0.006457   \n",
       "Annual Income                                      0.105107   \n",
       "Assembly Constituency Name                        -0.041066   \n",
       "Educational Qualification                          0.010479   \n",
       "No. of Family Members                              1.000000   \n",
       "No. of Earning members in the family               0.313214   \n",
       "Occupation of Respondent                           0.034868   \n",
       "\n",
       "                                      No. of Earning members in the family  \\\n",
       "City                                                              0.036361   \n",
       "Lowe Range                                                       -0.091495   \n",
       "Upper Range                                                      -0.077507   \n",
       "Gender                                                            0.092385   \n",
       "Annual Income                                                     0.218136   \n",
       "Assembly Constituency Name                                       -0.015252   \n",
       "Educational Qualification                                         0.044843   \n",
       "No. of Family Members                                             0.313214   \n",
       "No. of Earning members in the family                              1.000000   \n",
       "Occupation of Respondent                                         -0.047332   \n",
       "\n",
       "                                      Occupation of Respondent  \n",
       "City                                                  0.031308  \n",
       "Lowe Range                                            0.014980  \n",
       "Upper Range                                           0.033407  \n",
       "Gender                                                0.085895  \n",
       "Annual Income                                         0.066010  \n",
       "Assembly Constituency Name                           -0.004670  \n",
       "Educational Qualification                             0.022104  \n",
       "No. of Family Members                                 0.034868  \n",
       "No. of Earning members in the family                 -0.047332  \n",
       "Occupation of Respondent                              1.000000  "
      ]
     },
     "execution_count": 17,
     "metadata": {},
     "output_type": "execute_result"
    }
   ],
   "source": [
    "df.corr()"
   ]
  },
  {
   "cell_type": "code",
   "execution_count": 20,
   "metadata": {},
   "outputs": [
    {
     "data": {
      "image/png": "[encoded data removed]",
      "text/plain": [
       "<Figure size 720x720 with 2 Axes>"
      ]
     },
     "metadata": {
      "needs_background": "light"
     },
     "output_type": "display_data"
    }
   ],
   "source": [
    "import seaborn as sns\n",
    "import matplotlib.pyplot as plt\n",
    "g = sns.heatmap(df.corr(),annot=True,fmt = \".2f\", cmap = \"coolwarm\")\n",
    "fig=plt.gcf()\n",
    "fig.set_size_inches(10,10)\n",
    "plt.show()"
   ]
  },
  {
   "cell_type": "code",
   "execution_count": 21,
   "metadata": {},
   "outputs": [
    {
     "data": {
      "text/plain": [
       "City                                    int32\n",
       "Lowe Range                              int64\n",
       "Upper Range                             int64\n",
       "Gender                                  int32\n",
       "Annual Income                           int32\n",
       "Assembly Constituency Name              int32\n",
       "Educational Qualification               int32\n",
       "No. of Family Members                   int32\n",
       "No. of Earning members in the family    int64\n",
       "Occupation of Respondent                int32\n",
       "dtype: object"
      ]
     },
     "execution_count": 21,
     "metadata": {},
     "output_type": "execute_result"
    }
   ],
   "source": [
    "df.dtypes"
   ]
  },
  {
   "cell_type": "code",
   "execution_count": 22,
   "metadata": {
    "scrolled": true
   },
   "outputs": [
    {
     "data": {
      "text/html": [
       "<div>\n",
       "<style scoped>\n",
       "    .dataframe tbody tr th:only-of-type {\n",
       "        vertical-align: middle;\n",
       "    }\n",
       "\n",
       "    .dataframe tbody tr th {\n",
       "        vertical-align: top;\n",
       "    }\n",
       "\n",
       "    .dataframe thead th {\n",
       "        text-align: right;\n",
       "    }\n",
       "</style>\n",
       "<table border=\"1\" class=\"dataframe\">\n",
       "  <thead>\n",
       "    <tr style=\"text-align: right;\">\n",
       "      <th></th>\n",
       "      <th>City</th>\n",
       "      <th>Lowe Range</th>\n",
       "      <th>Upper Range</th>\n",
       "      <th>Gender</th>\n",
       "      <th>Annual Income</th>\n",
       "      <th>Assembly Constituency Name</th>\n",
       "      <th>Educational Qualification</th>\n",
       "      <th>No. of Family Members</th>\n",
       "      <th>No. of Earning members in the family</th>\n",
       "      <th>Occupation of Respondent</th>\n",
       "    </tr>\n",
       "  </thead>\n",
       "  <tbody>\n",
       "    <tr>\n",
       "      <th>0</th>\n",
       "      <td>0</td>\n",
       "      <td>22</td>\n",
       "      <td>29</td>\n",
       "      <td>0</td>\n",
       "      <td>0</td>\n",
       "      <td>3</td>\n",
       "      <td>1</td>\n",
       "      <td>2</td>\n",
       "      <td>2</td>\n",
       "      <td>2</td>\n",
       "    </tr>\n",
       "    <tr>\n",
       "      <th>1</th>\n",
       "      <td>0</td>\n",
       "      <td>22</td>\n",
       "      <td>29</td>\n",
       "      <td>0</td>\n",
       "      <td>0</td>\n",
       "      <td>3</td>\n",
       "      <td>2</td>\n",
       "      <td>2</td>\n",
       "      <td>1</td>\n",
       "      <td>0</td>\n",
       "    </tr>\n",
       "    <tr>\n",
       "      <th>2</th>\n",
       "      <td>0</td>\n",
       "      <td>22</td>\n",
       "      <td>29</td>\n",
       "      <td>0</td>\n",
       "      <td>0</td>\n",
       "      <td>3</td>\n",
       "      <td>3</td>\n",
       "      <td>1</td>\n",
       "      <td>0</td>\n",
       "      <td>2</td>\n",
       "    </tr>\n",
       "    <tr>\n",
       "      <th>3</th>\n",
       "      <td>0</td>\n",
       "      <td>22</td>\n",
       "      <td>29</td>\n",
       "      <td>0</td>\n",
       "      <td>0</td>\n",
       "      <td>3</td>\n",
       "      <td>4</td>\n",
       "      <td>2</td>\n",
       "      <td>0</td>\n",
       "      <td>2</td>\n",
       "    </tr>\n",
       "    <tr>\n",
       "      <th>4</th>\n",
       "      <td>0</td>\n",
       "      <td>22</td>\n",
       "      <td>29</td>\n",
       "      <td>0</td>\n",
       "      <td>0</td>\n",
       "      <td>3</td>\n",
       "      <td>5</td>\n",
       "      <td>2</td>\n",
       "      <td>0</td>\n",
       "      <td>2</td>\n",
       "    </tr>\n",
       "  </tbody>\n",
       "</table>\n",
       "</div>"
      ],
      "text/plain": [
       "   City  Lowe Range  Upper Range  Gender  Annual Income  \\\n",
       "0     0          22           29       0              0   \n",
       "1     0          22           29       0              0   \n",
       "2     0          22           29       0              0   \n",
       "3     0          22           29       0              0   \n",
       "4     0          22           29       0              0   \n",
       "\n",
       "   Assembly Constituency Name  Educational Qualification  \\\n",
       "0                           3                          1   \n",
       "1                           3                          2   \n",
       "2                           3                          3   \n",
       "3                           3                          4   \n",
       "4                           3                          5   \n",
       "\n",
       "   No. of Family Members  No. of Earning members in the family  \\\n",
       "0                      2                                     2   \n",
       "1                      2                                     1   \n",
       "2                      1                                     0   \n",
       "3                      2                                     0   \n",
       "4                      2                                     0   \n",
       "\n",
       "   Occupation of Respondent  \n",
       "0                         2  \n",
       "1                         0  \n",
       "2                         2  \n",
       "3                         2  \n",
       "4                         2  "
      ]
     },
     "execution_count": 22,
     "metadata": {},
     "output_type": "execute_result"
    }
   ],
   "source": [
    "df.head()"
   ]
  },
  {
   "cell_type": "code",
   "execution_count": 23,
   "metadata": {},
   "outputs": [
    {
     "data": {
      "text/html": [
       "<div>\n",
       "<style scoped>\n",
       "    .dataframe tbody tr th:only-of-type {\n",
       "        vertical-align: middle;\n",
       "    }\n",
       "\n",
       "    .dataframe tbody tr th {\n",
       "        vertical-align: top;\n",
       "    }\n",
       "\n",
       "    .dataframe thead th {\n",
       "        text-align: right;\n",
       "    }\n",
       "</style>\n",
       "<table border=\"1\" class=\"dataframe\">\n",
       "  <thead>\n",
       "    <tr style=\"text-align: right;\">\n",
       "      <th></th>\n",
       "      <th>City</th>\n",
       "      <th>Lowe Range</th>\n",
       "      <th>Upper Range</th>\n",
       "      <th>Gender</th>\n",
       "      <th>Annual Income</th>\n",
       "      <th>Assembly Constituency Name</th>\n",
       "      <th>Educational Qualification</th>\n",
       "      <th>No. of Family Members</th>\n",
       "      <th>No. of Earning members in the family</th>\n",
       "      <th>Occupation of Respondent</th>\n",
       "    </tr>\n",
       "  </thead>\n",
       "  <tbody>\n",
       "    <tr>\n",
       "      <th>count</th>\n",
       "      <td>5351.000000</td>\n",
       "      <td>5351.000000</td>\n",
       "      <td>5351.000000</td>\n",
       "      <td>5351.000000</td>\n",
       "      <td>5351.000000</td>\n",
       "      <td>5351.000000</td>\n",
       "      <td>5351.000000</td>\n",
       "      <td>5351.000000</td>\n",
       "      <td>5351.000000</td>\n",
       "      <td>5351.000000</td>\n",
       "    </tr>\n",
       "    <tr>\n",
       "      <th>mean</th>\n",
       "      <td>5.452626</td>\n",
       "      <td>33.976827</td>\n",
       "      <td>48.833676</td>\n",
       "      <td>0.542515</td>\n",
       "      <td>0.119791</td>\n",
       "      <td>110.666978</td>\n",
       "      <td>2.343113</td>\n",
       "      <td>1.358998</td>\n",
       "      <td>0.615773</td>\n",
       "      <td>2.268735</td>\n",
       "    </tr>\n",
       "    <tr>\n",
       "      <th>std</th>\n",
       "      <td>3.492468</td>\n",
       "      <td>11.327026</td>\n",
       "      <td>21.118278</td>\n",
       "      <td>0.498236</td>\n",
       "      <td>0.324747</td>\n",
       "      <td>64.517311</td>\n",
       "      <td>1.811182</td>\n",
       "      <td>0.629102</td>\n",
       "      <td>0.903165</td>\n",
       "      <td>1.506221</td>\n",
       "    </tr>\n",
       "    <tr>\n",
       "      <th>min</th>\n",
       "      <td>0.000000</td>\n",
       "      <td>22.000000</td>\n",
       "      <td>29.000000</td>\n",
       "      <td>0.000000</td>\n",
       "      <td>0.000000</td>\n",
       "      <td>0.000000</td>\n",
       "      <td>0.000000</td>\n",
       "      <td>0.000000</td>\n",
       "      <td>0.000000</td>\n",
       "      <td>0.000000</td>\n",
       "    </tr>\n",
       "    <tr>\n",
       "      <th>25%</th>\n",
       "      <td>3.000000</td>\n",
       "      <td>22.000000</td>\n",
       "      <td>29.000000</td>\n",
       "      <td>0.000000</td>\n",
       "      <td>0.000000</td>\n",
       "      <td>56.000000</td>\n",
       "      <td>1.000000</td>\n",
       "      <td>1.000000</td>\n",
       "      <td>0.000000</td>\n",
       "      <td>1.000000</td>\n",
       "    </tr>\n",
       "    <tr>\n",
       "      <th>50%</th>\n",
       "      <td>5.000000</td>\n",
       "      <td>30.000000</td>\n",
       "      <td>39.000000</td>\n",
       "      <td>1.000000</td>\n",
       "      <td>0.000000</td>\n",
       "      <td>109.000000</td>\n",
       "      <td>2.000000</td>\n",
       "      <td>1.000000</td>\n",
       "      <td>0.000000</td>\n",
       "      <td>2.000000</td>\n",
       "    </tr>\n",
       "    <tr>\n",
       "      <th>75%</th>\n",
       "      <td>8.000000</td>\n",
       "      <td>40.000000</td>\n",
       "      <td>59.000000</td>\n",
       "      <td>1.000000</td>\n",
       "      <td>0.000000</td>\n",
       "      <td>166.000000</td>\n",
       "      <td>4.000000</td>\n",
       "      <td>2.000000</td>\n",
       "      <td>1.000000</td>\n",
       "      <td>4.000000</td>\n",
       "    </tr>\n",
       "    <tr>\n",
       "      <th>max</th>\n",
       "      <td>12.000000</td>\n",
       "      <td>60.000000</td>\n",
       "      <td>100.000000</td>\n",
       "      <td>1.000000</td>\n",
       "      <td>1.000000</td>\n",
       "      <td>223.000000</td>\n",
       "      <td>6.000000</td>\n",
       "      <td>2.000000</td>\n",
       "      <td>8.000000</td>\n",
       "      <td>5.000000</td>\n",
       "    </tr>\n",
       "  </tbody>\n",
       "</table>\n",
       "</div>"
      ],
      "text/plain": [
       "              City   Lowe Range  Upper Range       Gender  Annual Income  \\\n",
       "count  5351.000000  5351.000000  5351.000000  5351.000000    5351.000000   \n",
       "mean      5.452626    33.976827    48.833676     0.542515       0.119791   \n",
       "std       3.492468    11.327026    21.118278     0.498236       0.324747   \n",
       "min       0.000000    22.000000    29.000000     0.000000       0.000000   \n",
       "25%       3.000000    22.000000    29.000000     0.000000       0.000000   \n",
       "50%       5.000000    30.000000    39.000000     1.000000       0.000000   \n",
       "75%       8.000000    40.000000    59.000000     1.000000       0.000000   \n",
       "max      12.000000    60.000000   100.000000     1.000000       1.000000   \n",
       "\n",
       "       Assembly Constituency Name  Educational Qualification  \\\n",
       "count                 5351.000000                5351.000000   \n",
       "mean                   110.666978                   2.343113   \n",
       "std                     64.517311                   1.811182   \n",
       "min                      0.000000                   0.000000   \n",
       "25%                     56.000000                   1.000000   \n",
       "50%                    109.000000                   2.000000   \n",
       "75%                    166.000000                   4.000000   \n",
       "max                    223.000000                   6.000000   \n",
       "\n",
       "       No. of Family Members  No. of Earning members in the family  \\\n",
       "count            5351.000000                           5351.000000   \n",
       "mean                1.358998                              0.615773   \n",
       "std                 0.629102                              0.903165   \n",
       "min                 0.000000                              0.000000   \n",
       "25%                 1.000000                              0.000000   \n",
       "50%                 1.000000                              0.000000   \n",
       "75%                 2.000000                              1.000000   \n",
       "max                 2.000000                              8.000000   \n",
       "\n",
       "       Occupation of Respondent  \n",
       "count               5351.000000  \n",
       "mean                   2.268735  \n",
       "std                    1.506221  \n",
       "min                    0.000000  \n",
       "25%                    1.000000  \n",
       "50%                    2.000000  \n",
       "75%                    4.000000  \n",
       "max                    5.000000  "
      ]
     },
     "execution_count": 23,
     "metadata": {},
     "output_type": "execute_result"
    }
   ],
   "source": [
    "df.describe()   "
   ]
  },
  {
   "cell_type": "code",
   "execution_count": 24,
   "metadata": {},
   "outputs": [
    {
     "data": {
      "image/png": "[encoded data removed]",
      "text/plain": [
       "<Figure size 432x288 with 1 Axes>"
      ]
     },
     "metadata": {
      "needs_background": "light"
     },
     "output_type": "display_data"
    }
   ],
   "source": [
    "plt.plot(df['Annual Income'], df['No. of Earning members in the family'], \"b.\")\n",
    "plt.show()"
   ]
  },
  {
   "cell_type": "code",
   "execution_count": 25,
   "metadata": {
    "scrolled": true
   },
   "outputs": [
    {
     "data": {
      "image/png": "[encoded data removed]",
      "text/plain": [
       "<Figure size 432x288 with 1 Axes>"
      ]
     },
     "metadata": {
      "needs_background": "light"
     },
     "output_type": "display_data"
    }
   ],
   "source": [
    "plt.plot(df['Educational Qualification'],df['Annual Income'],  \"b.\")\n",
    "plt.show()"
   ]
  },
  {
   "cell_type": "code",
   "execution_count": 17,
   "metadata": {
    "scrolled": true
   },
   "outputs": [],
   "source": [
    "X = df[['No. of Earning members in the family','No. of Family Members','Educational Qualification','Gender']]\n",
    "Y = df['Annual Income']"
   ]
  },
  {
   "cell_type": "markdown",
   "metadata": {},
   "source": [
    "## Naive Bayes Classifier"
   ]
  },
  {
   "cell_type": "code",
   "execution_count": 18,
   "metadata": {},
   "outputs": [],
   "source": [
    "# Importing the required libraries\n",
    "from sklearn.model_selection import train_test_split\n",
    "from sklearn.naive_bayes import GaussianNB\n",
    "from sklearn.metrics import accuracy_score, roc_auc_score, confusion_matrix"
   ]
  },
  {
   "cell_type": "code",
   "execution_count": 19,
   "metadata": {
    "scrolled": true
   },
   "outputs": [],
   "source": [
    "# Splitting the dataset into the Training set and Test set\n",
    "X_train, X_test, y_train, y_test = train_test_split(X, Y, test_size = 0.2, random_state = 0)"
   ]
  },
  {
   "cell_type": "code",
   "execution_count": 20,
   "metadata": {},
   "outputs": [],
   "source": [
    "# Fit our Naive Bayes model to training data\n",
    "GNB = GaussianNB()\n",
    "naive_bayes_classifier = GNB.fit(X_train, y_train)"
   ]
  },
  {
   "cell_type": "code",
   "execution_count": 21,
   "metadata": {},
   "outputs": [],
   "source": [
    "# Predicting our model on the validation data\n",
    "pred_test = naive_bayes_classifier.predict(X_test)"
   ]
  },
  {
   "cell_type": "code",
   "execution_count": 22,
   "metadata": {
    "scrolled": true
   },
   "outputs": [
    {
     "data": {
      "text/plain": [
       "array([0, 0, 0, ..., 0, 0, 0])"
      ]
     },
     "execution_count": 22,
     "metadata": {},
     "output_type": "execute_result"
    }
   ],
   "source": [
    "pred_test"
   ]
  },
  {
   "cell_type": "markdown",
   "metadata": {},
   "source": [
    "## Accuracy"
   ]
  },
  {
   "cell_type": "code",
   "execution_count": 23,
   "metadata": {},
   "outputs": [
    {
     "data": {
      "text/plain": [
       "0.8674136321195145"
      ]
     },
     "execution_count": 23,
     "metadata": {},
     "output_type": "execute_result"
    }
   ],
   "source": [
    "accuracy_score(y_test,pred_test)"
   ]
  },
  {
   "cell_type": "markdown",
   "metadata": {},
   "source": [
    "## Confusion Matrix for Naive Bayes Classifier "
   ]
  },
  {
   "cell_type": "code",
   "execution_count": 24,
   "metadata": {},
   "outputs": [],
   "source": [
    "from sklearn.metrics import confusion_matrix"
   ]
  },
  {
   "cell_type": "code",
   "execution_count": 25,
   "metadata": {},
   "outputs": [
    {
     "data": {
      "text/plain": [
       "array([[912,  31],\n",
       "       [111,  17]], dtype=int64)"
      ]
     },
     "execution_count": 25,
     "metadata": {},
     "output_type": "execute_result"
    }
   ],
   "source": [
    "# Confusion Matrix\n",
    "confusion_matrix(y_test,pred_test)"
   ]
  },
  {
   "cell_type": "code",
   "execution_count": 26,
   "metadata": {
    "scrolled": true
   },
   "outputs": [
    {
     "data": {
      "text/plain": [
       "0    943\n",
       "1    128\n",
       "Name: Annual Income, dtype: int64"
      ]
     },
     "execution_count": 26,
     "metadata": {},
     "output_type": "execute_result"
    }
   ],
   "source": [
    "y_test.value_counts()"
   ]
  },
  {
   "cell_type": "markdown",
   "metadata": {},
   "source": [
    "## ROC AUC Curve"
   ]
  },
  {
   "cell_type": "code",
   "execution_count": 30,
   "metadata": {},
   "outputs": [
    {
     "data": {
      "image/png": "[encoded data removed]",
      "text/plain": [
       "<Figure size 432x288 with 1 Axes>"
      ]
     },
     "metadata": {
      "needs_background": "light"
     },
     "output_type": "display_data"
    }
   ],
   "source": [
    "import sklearn.metrics as metrics\n",
    "# calculate the fpr and tpr for all thresholds of the classification\n",
    "probs =naive_bayes_classifier.predict_proba(X_test)\n",
    "preds = probs[:,1]\n",
    "fpr, tpr, threshold = metrics.roc_curve(y_test, preds)\n",
    "roc_auc = metrics.auc(fpr, tpr)\n",
    "\n",
    "# method I: plt\n",
    "import matplotlib.pyplot as plt\n",
    "plt.title('Receiver Operating Characteristic')\n",
    "plt.plot(fpr, tpr, 'b', label = 'AUC = %0.2f' % roc_auc)\n",
    "plt.legend(loc = 'lower right')\n",
    "plt.plot([0, 1], [0, 1],'r--')\n",
    "plt.xlim([0, 1])\n",
    "plt.ylim([0, 1])\n",
    "plt.ylabel('True Positive Rate')\n",
    "plt.xlabel('False Positive Rate')\n",
    "plt.show()"
   ]
  },
  {
   "cell_type": "markdown",
   "metadata": {},
   "source": [
    "# Decision Tree"
   ]
  },
  {
   "cell_type": "code",
   "execution_count": 31,
   "metadata": {},
   "outputs": [],
   "source": [
    "from sklearn.tree import DecisionTreeClassifier"
   ]
  },
  {
   "cell_type": "code",
   "execution_count": 32,
   "metadata": {},
   "outputs": [],
   "source": [
    "X = df[['No. of Earning members in the family','No. of Family Members','Educational Qualification','Gender']]\n",
    "Y = df['Annual Income']"
   ]
  },
  {
   "cell_type": "code",
   "execution_count": 33,
   "metadata": {},
   "outputs": [],
   "source": [
    "X_train,X_test,y_train,y_test = train_test_split(X,Y,test_size=0.2,random_state=0)"
   ]
  },
  {
   "cell_type": "code",
   "execution_count": 34,
   "metadata": {
    "scrolled": true
   },
   "outputs": [
    {
     "data": {
      "text/plain": [
       "DecisionTreeClassifier(ccp_alpha=0.0, class_weight=None, criterion='gini',\n",
       "                       max_depth=None, max_features=None, max_leaf_nodes=15,\n",
       "                       min_impurity_decrease=0.0, min_impurity_split=None,\n",
       "                       min_samples_leaf=1, min_samples_split=2,\n",
       "                       min_weight_fraction_leaf=0.0, presort='deprecated',\n",
       "                       random_state=0, splitter='best')"
      ]
     },
     "execution_count": 34,
     "metadata": {},
     "output_type": "execute_result"
    }
   ],
   "source": [
    "i_classifier = DecisionTreeClassifier(max_leaf_nodes=15,criterion='gini',random_state=0)\n",
    "i_classifier.fit(X_train,y_train)"
   ]
  },
  {
   "cell_type": "code",
   "execution_count": 35,
   "metadata": {},
   "outputs": [],
   "source": [
    "y_predicted = i_classifier.predict(X_test)"
   ]
  },
  {
   "cell_type": "code",
   "execution_count": 36,
   "metadata": {},
   "outputs": [
    {
     "data": {
      "text/plain": [
       "array([0, 0, 0, 0, 0, 0, 0, 0, 0, 0])"
      ]
     },
     "execution_count": 36,
     "metadata": {},
     "output_type": "execute_result"
    }
   ],
   "source": [
    "y_predicted[:10]"
   ]
  },
  {
   "cell_type": "code",
   "execution_count": 37,
   "metadata": {
    "scrolled": true
   },
   "outputs": [
    {
     "data": {
      "text/plain": [
       "451     0\n",
       "4907    0\n",
       "4270    0\n",
       "2686    1\n",
       "1087    0\n",
       "1196    0\n",
       "4434    0\n",
       "3270    0\n",
       "2030    1\n",
       "5302    0\n",
       "Name: Annual Income, dtype: int32"
      ]
     },
     "execution_count": 37,
     "metadata": {},
     "output_type": "execute_result"
    }
   ],
   "source": [
    "y_test[:10]"
   ]
  },
  {
   "cell_type": "markdown",
   "metadata": {},
   "source": [
    "## Accuracy"
   ]
  },
  {
   "cell_type": "code",
   "execution_count": 38,
   "metadata": {},
   "outputs": [
    {
     "data": {
      "text/plain": [
       "88.32866479925303"
      ]
     },
     "execution_count": 38,
     "metadata": {},
     "output_type": "execute_result"
    }
   ],
   "source": [
    "accuracy_score(y_test,y_predicted)*100"
   ]
  },
  {
   "cell_type": "markdown",
   "metadata": {},
   "source": [
    "## Confusion Matrix"
   ]
  },
  {
   "cell_type": "code",
   "execution_count": 39,
   "metadata": {},
   "outputs": [
    {
     "data": {
      "text/plain": [
       "array([[938,   5],\n",
       "       [120,   8]], dtype=int64)"
      ]
     },
     "execution_count": 39,
     "metadata": {},
     "output_type": "execute_result"
    }
   ],
   "source": [
    "# Confusion Matrix\n",
    "confusion_matrix(y_test,y_predicted)"
   ]
  },
  {
   "cell_type": "code",
   "execution_count": 40,
   "metadata": {},
   "outputs": [
    {
     "data": {
      "text/plain": [
       "0    943\n",
       "1    128\n",
       "Name: Annual Income, dtype: int64"
      ]
     },
     "execution_count": 40,
     "metadata": {},
     "output_type": "execute_result"
    }
   ],
   "source": [
    "y_test.value_counts()"
   ]
  },
  {
   "cell_type": "markdown",
   "metadata": {},
   "source": [
    "## AUC ROC Curve"
   ]
  },
  {
   "cell_type": "code",
   "execution_count": 41,
   "metadata": {},
   "outputs": [
    {
     "data": {
      "image/png": "[encoded data removed]",
      "text/plain": [
       "<Figure size 432x288 with 1 Axes>"
      ]
     },
     "metadata": {
      "needs_background": "light"
     },
     "output_type": "display_data"
    }
   ],
   "source": [
    "import sklearn.metrics as metrics\n",
    "# calculate the fpr and tpr for all thresholds of the classification\n",
    "probs =i_classifier.predict_proba(X_test)\n",
    "preds = probs[:,1]\n",
    "fpr, tpr, threshold = metrics.roc_curve(y_test, preds)\n",
    "roc_auc = metrics.auc(fpr, tpr)\n",
    "\n",
    "# method I: plt\n",
    "import matplotlib.pyplot as plt\n",
    "plt.title('Receiver Operating Characteristic')\n",
    "plt.plot(fpr, tpr, 'b', label = 'AUC = %0.2f' % roc_auc)\n",
    "plt.legend(loc = 'lower right')\n",
    "plt.plot([0, 1], [0, 1],'r--')\n",
    "plt.xlim([0, 1])\n",
    "plt.ylim([0, 1])\n",
    "plt.ylabel('True Positive Rate')\n",
    "plt.xlabel('False Positive Rate')\n",
    "plt.show()"
   ]
  },
  {
   "cell_type": "markdown",
   "metadata": {},
   "source": [
    "## Logistic Regression"
   ]
  },
  {
   "cell_type": "code",
   "execution_count": 42,
   "metadata": {},
   "outputs": [],
   "source": [
    "from sklearn.linear_model import LogisticRegression"
   ]
  },
  {
   "cell_type": "code",
   "execution_count": 43,
   "metadata": {},
   "outputs": [],
   "source": [
    "X = df[['No. of Earning members in the family','No. of Family Members','Educational Qualification','Gender']]\n",
    "Y = df['Annual Income']"
   ]
  },
  {
   "cell_type": "code",
   "execution_count": 44,
   "metadata": {},
   "outputs": [],
   "source": [
    "# Splitting the dataset into the Training set and Test set\n",
    "X_train, X_test, y_train, y_test = train_test_split(X, Y, test_size = 0.2, random_state = 0)"
   ]
  },
  {
   "cell_type": "code",
   "execution_count": 45,
   "metadata": {},
   "outputs": [
    {
     "data": {
      "text/plain": [
       "LogisticRegression(C=1.0, class_weight=None, dual=False, fit_intercept=True,\n",
       "                   intercept_scaling=1, l1_ratio=None, max_iter=100,\n",
       "                   multi_class='auto', n_jobs=None, penalty='l2',\n",
       "                   random_state=0, solver='lbfgs', tol=0.0001, verbose=0,\n",
       "                   warm_start=False)"
      ]
     },
     "execution_count": 45,
     "metadata": {},
     "output_type": "execute_result"
    }
   ],
   "source": [
    "# Initialize an instance of class LogisticRegression\n",
    "logistic_model = LogisticRegression(random_state=0, solver='lbfgs')\n",
    "\n",
    "\n",
    "# Fit our chosen model on the given data\n",
    "logistic_model.fit(X_train, y_train)"
   ]
  },
  {
   "cell_type": "code",
   "execution_count": 46,
   "metadata": {},
   "outputs": [],
   "source": [
    "# Predicting our model on the validation data\n",
    "y_pred = logistic_model.predict(X_test)"
   ]
  },
  {
   "cell_type": "code",
   "execution_count": 47,
   "metadata": {
    "scrolled": true
   },
   "outputs": [
    {
     "data": {
      "text/plain": [
       "array([0, 0, 0, ..., 0, 0, 0])"
      ]
     },
     "execution_count": 47,
     "metadata": {},
     "output_type": "execute_result"
    }
   ],
   "source": [
    "y_pred"
   ]
  },
  {
   "cell_type": "markdown",
   "metadata": {},
   "source": [
    "## Accuracy"
   ]
  },
  {
   "cell_type": "code",
   "execution_count": 48,
   "metadata": {},
   "outputs": [
    {
     "data": {
      "text/plain": [
       "0.8814192343604108"
      ]
     },
     "execution_count": 48,
     "metadata": {},
     "output_type": "execute_result"
    }
   ],
   "source": [
    "accuracy_score(y_test,y_pred)"
   ]
  },
  {
   "cell_type": "code",
   "execution_count": 49,
   "metadata": {},
   "outputs": [],
   "source": [
    "y_pred_prob = logistic_model.predict_proba(X_test)"
   ]
  },
  {
   "cell_type": "code",
   "execution_count": 50,
   "metadata": {},
   "outputs": [
    {
     "data": {
      "text/plain": [
       "array([[0.97133295, 0.02866705],\n",
       "       [0.95148075, 0.04851925],\n",
       "       [0.95148075, 0.04851925],\n",
       "       ...,\n",
       "       [0.93709455, 0.06290545],\n",
       "       [0.80829964, 0.19170036],\n",
       "       [0.86787905, 0.13212095]])"
      ]
     },
     "execution_count": 50,
     "metadata": {},
     "output_type": "execute_result"
    }
   ],
   "source": [
    "y_pred_prob"
   ]
  },
  {
   "cell_type": "code",
   "execution_count": 51,
   "metadata": {},
   "outputs": [
    {
     "data": {
      "text/plain": [
       "array([[0.44185888, 0.2763845 , 0.27343107, 0.54833848]])"
      ]
     },
     "execution_count": 51,
     "metadata": {},
     "output_type": "execute_result"
    }
   ],
   "source": [
    "logistic_model.coef_"
   ]
  },
  {
   "cell_type": "code",
   "execution_count": 52,
   "metadata": {
    "scrolled": true
   },
   "outputs": [
    {
     "data": {
      "text/plain": [
       "array([-3.79930543])"
      ]
     },
     "execution_count": 52,
     "metadata": {},
     "output_type": "execute_result"
    }
   ],
   "source": [
    "logistic_model.intercept_"
   ]
  },
  {
   "cell_type": "markdown",
   "metadata": {},
   "source": [
    "## Confusion Matrix"
   ]
  },
  {
   "cell_type": "code",
   "execution_count": 53,
   "metadata": {
    "scrolled": false
   },
   "outputs": [
    {
     "name": "stdout",
     "output_type": "stream",
     "text": [
      "[[940   3]\n",
      " [124   4]]\n",
      "0    943\n",
      "1    128\n",
      "Name: Annual Income, dtype: int64\n"
     ]
    }
   ],
   "source": [
    "# Confusion Matrix\n",
    "print(confusion_matrix(y_test,y_pred))\n",
    "\n",
    "print(y_test.value_counts())"
   ]
  },
  {
   "cell_type": "markdown",
   "metadata": {},
   "source": [
    "## ROC AUC Curve"
   ]
  },
  {
   "cell_type": "code",
   "execution_count": 54,
   "metadata": {},
   "outputs": [
    {
     "data": {
      "image/png": "[encoded data removed]",
      "text/plain": [
       "<Figure size 432x288 with 1 Axes>"
      ]
     },
     "metadata": {
      "needs_background": "light"
     },
     "output_type": "display_data"
    }
   ],
   "source": [
    "import sklearn.metrics as metrics\n",
    "# calculate the fpr and tpr for all thresholds of the classification\n",
    "probs =logistic_model.predict_proba(X_test)\n",
    "preds = probs[:,1]\n",
    "fpr, tpr, threshold = metrics.roc_curve(y_test, preds)\n",
    "roc_auc = metrics.auc(fpr, tpr)\n",
    "\n",
    "# method I: plt\n",
    "import matplotlib.pyplot as plt\n",
    "plt.title('Receiver Operating Characteristic')\n",
    "plt.plot(fpr, tpr, 'b', label = 'AUC = %0.2f' % roc_auc)\n",
    "plt.legend(loc = 'lower right')\n",
    "plt.plot([0, 1], [0, 1],'r--')\n",
    "plt.xlim([0, 1])\n",
    "plt.ylim([0, 1])\n",
    "plt.ylabel('True Positive Rate')\n",
    "plt.xlabel('False Positive Rate')\n",
    "plt.show()"
   ]
  },
  {
   "cell_type": "markdown",
   "metadata": {},
   "source": [
    "# KNN "
   ]
  },
  {
   "cell_type": "code",
   "execution_count": 55,
   "metadata": {},
   "outputs": [],
   "source": [
    "import sklearn.neighbors as nbr"
   ]
  },
  {
   "cell_type": "code",
   "execution_count": 56,
   "metadata": {},
   "outputs": [],
   "source": [
    "X = df[['No. of Earning members in the family','No. of Family Members','Educational Qualification','Gender']]\n",
    "Y = df['Annual Income']"
   ]
  },
  {
   "cell_type": "code",
   "execution_count": 57,
   "metadata": {},
   "outputs": [],
   "source": [
    "# Splitting the dataset into the Training set and Test set\n",
    "X_train, X_test, y_train, y_test = train_test_split(X, Y, test_size = 0.2, random_state = 0)"
   ]
  },
  {
   "cell_type": "code",
   "execution_count": 58,
   "metadata": {},
   "outputs": [
    {
     "data": {
      "text/plain": [
       "KNeighborsClassifier(algorithm='auto', leaf_size=30, metric='minkowski',\n",
       "                     metric_params=None, n_jobs=None, n_neighbors=5, p=2,\n",
       "                     weights='uniform')"
      ]
     },
     "execution_count": 58,
     "metadata": {},
     "output_type": "execute_result"
    }
   ],
   "source": [
    "knn = nbr.KNeighborsClassifier()\n",
    "knn.fit(X_train, y_train)"
   ]
  },
  {
   "cell_type": "code",
   "execution_count": 59,
   "metadata": {},
   "outputs": [],
   "source": [
    "pred = knn.predict(X_test)"
   ]
  },
  {
   "cell_type": "markdown",
   "metadata": {},
   "source": [
    "## Accuracy"
   ]
  },
  {
   "cell_type": "code",
   "execution_count": 60,
   "metadata": {
    "scrolled": false
   },
   "outputs": [
    {
     "data": {
      "text/plain": [
       "85.15406162464986"
      ]
     },
     "execution_count": 60,
     "metadata": {},
     "output_type": "execute_result"
    }
   ],
   "source": [
    "accuracy_score(y_test,pred)*100"
   ]
  },
  {
   "cell_type": "markdown",
   "metadata": {},
   "source": [
    "## Confusion Matrix"
   ]
  },
  {
   "cell_type": "code",
   "execution_count": 61,
   "metadata": {},
   "outputs": [
    {
     "name": "stdout",
     "output_type": "stream",
     "text": [
      "[[883  60]\n",
      " [ 99  29]]\n",
      "0    943\n",
      "1    128\n",
      "Name: Annual Income, dtype: int64\n"
     ]
    }
   ],
   "source": [
    "# Confusion Matrix\n",
    "print(confusion_matrix(y_test,pred))\n",
    "\n",
    "print(y_test.value_counts())"
   ]
  },
  {
   "cell_type": "markdown",
   "metadata": {},
   "source": [
    "## ROC AUC Curve"
   ]
  },
  {
   "cell_type": "code",
   "execution_count": 62,
   "metadata": {},
   "outputs": [
    {
     "data": {
      "image/png": "[encoded data removed]",
      "text/plain": [
       "<Figure size 432x288 with 1 Axes>"
      ]
     },
     "metadata": {
      "needs_background": "light"
     },
     "output_type": "display_data"
    }
   ],
   "source": [
    "import sklearn.metrics as metrics\n",
    "# calculate the fpr and tpr for all thresholds of the classification\n",
    "probs = knn.predict_proba(X_test)\n",
    "preds = probs[:,1]\n",
    "fpr, tpr, threshold = metrics.roc_curve(y_test, preds)\n",
    "roc_auc = metrics.auc(fpr, tpr)\n",
    "\n",
    "# method I: plt\n",
    "import matplotlib.pyplot as plt\n",
    "plt.title('Receiver Operating Characteristic')\n",
    "plt.plot(fpr, tpr, 'b', label = 'AUC = %0.2f' % roc_auc)\n",
    "plt.legend(loc = 'lower right')\n",
    "plt.plot([0, 1], [0, 1],'r--')\n",
    "plt.xlim([0, 1])\n",
    "plt.ylim([0, 1])\n",
    "plt.ylabel('True Positive Rate')\n",
    "plt.xlabel('False Positive Rate')\n",
    "plt.show()"
   ]
  },
  {
   "cell_type": "markdown",
   "metadata": {},
   "source": [
    "# SVM"
   ]
  },
  {
   "cell_type": "code",
   "execution_count": 63,
   "metadata": {},
   "outputs": [],
   "source": [
    "import sklearn.svm as svm"
   ]
  },
  {
   "cell_type": "code",
   "execution_count": 71,
   "metadata": {},
   "outputs": [],
   "source": [
    "X = df[['No. of Earning members in the family','No. of Family Members','Educational Qualification','Gender']]\n",
    "Y = df['Annual Income']\n",
    "\n",
    "# Splitting the dataset into the Training set and Test set\n",
    "X_train, X_test, y_train, y_test = train_test_split(X, Y, test_size = 0.2, random_state = 0)"
   ]
  },
  {
   "cell_type": "code",
   "execution_count": 72,
   "metadata": {
    "scrolled": true
   },
   "outputs": [
    {
     "data": {
      "text/plain": [
       "SVC(C=1.0, break_ties=False, cache_size=200, class_weight=None, coef0=0.0,\n",
       "    decision_function_shape='ovr', degree=3, gamma='scale', kernel='linear',\n",
       "    max_iter=-1, probability=True, random_state=None, shrinking=True, tol=0.001,\n",
       "    verbose=False)"
      ]
     },
     "execution_count": 72,
     "metadata": {},
     "output_type": "execute_result"
    }
   ],
   "source": [
    "svm1 = svm.SVC(kernel='linear',probability=True)      #‘linear’, ‘poly’, ‘rbf’, ‘sigmoid’, ‘precomputed’\n",
    "svm1.fit(X_train, y_train)"
   ]
  },
  {
   "cell_type": "code",
   "execution_count": 73,
   "metadata": {},
   "outputs": [],
   "source": [
    "pred = svm1.predict(X_test)"
   ]
  },
  {
   "cell_type": "code",
   "execution_count": 74,
   "metadata": {
    "scrolled": true
   },
   "outputs": [
    {
     "data": {
      "text/plain": [
       "array([0, 0, 0, ..., 0, 0, 0])"
      ]
     },
     "execution_count": 74,
     "metadata": {},
     "output_type": "execute_result"
    }
   ],
   "source": [
    "pred"
   ]
  },
  {
   "cell_type": "markdown",
   "metadata": {},
   "source": [
    "## Accuracy"
   ]
  },
  {
   "cell_type": "code",
   "execution_count": 75,
   "metadata": {
    "scrolled": true
   },
   "outputs": [
    {
     "data": {
      "text/plain": [
       "88.04855275443511"
      ]
     },
     "execution_count": 75,
     "metadata": {},
     "output_type": "execute_result"
    }
   ],
   "source": [
    "accuracy_score(y_test,pred)*100"
   ]
  },
  {
   "cell_type": "markdown",
   "metadata": {},
   "source": [
    "## Confusion Matrix"
   ]
  },
  {
   "cell_type": "code",
   "execution_count": 76,
   "metadata": {},
   "outputs": [
    {
     "name": "stdout",
     "output_type": "stream",
     "text": [
      "[[943   0]\n",
      " [128   0]]\n",
      "0    943\n",
      "1    128\n",
      "Name: Annual Income, dtype: int64\n"
     ]
    }
   ],
   "source": [
    "# Confusion Matrix\n",
    "print(confusion_matrix(y_test,pred))\n",
    "\n",
    "print(y_test.value_counts())"
   ]
  },
  {
   "cell_type": "markdown",
   "metadata": {},
   "source": [
    "## ROC AUC Curve"
   ]
  },
  {
   "cell_type": "code",
   "execution_count": 77,
   "metadata": {
    "scrolled": true
   },
   "outputs": [
    {
     "data": {
      "image/png": "[encoded data removed]",
      "text/plain": [
       "<Figure size 432x288 with 1 Axes>"
      ]
     },
     "metadata": {
      "needs_background": "light"
     },
     "output_type": "display_data"
    }
   ],
   "source": [
    "import sklearn.metrics as metrics\n",
    "# calculate the fpr and tpr for all thresholds of the classification\n",
    "probs = svm1.predict_proba(X_test)\n",
    "preds = probs[:,1]\n",
    "fpr, tpr, threshold = metrics.roc_curve(y_test, preds)\n",
    "roc_auc = metrics.auc(fpr, tpr)\n",
    "\n",
    "# method I: plt\n",
    "import matplotlib.pyplot as plt\n",
    "plt.title('Receiver Operating Characteristic')\n",
    "plt.plot(fpr, tpr, 'b', label = 'AUC = %0.2f' % roc_auc)\n",
    "plt.legend(loc = 'lower right')\n",
    "plt.plot([0, 1], [0, 1],'r--')\n",
    "plt.xlim([0, 1])\n",
    "plt.ylim([0, 1])\n",
    "plt.ylabel('True Positive Rate')\n",
    "plt.xlabel('False Positive Rate')\n",
    "plt.show()"
   ]
  },
  {
   "cell_type": "markdown",
   "metadata": {},
   "source": [
    "# Random Forest"
   ]
  },
  {
   "cell_type": "code",
   "execution_count": 78,
   "metadata": {},
   "outputs": [],
   "source": [
    "from sklearn.ensemble import RandomForestClassifier"
   ]
  },
  {
   "cell_type": "code",
   "execution_count": 89,
   "metadata": {},
   "outputs": [],
   "source": [
    "X = df[['No. of Earning members in the family','No. of Family Members','Educational Qualification','Gender']]\n",
    "Y = df['Annual Income']"
   ]
  },
  {
   "cell_type": "code",
   "execution_count": 90,
   "metadata": {},
   "outputs": [],
   "source": [
    "# Splitting the dataset into the Training set and Test set\n",
    "X_train, X_test, Y_train, Y_test = train_test_split(X, Y, test_size = 0.2, random_state = 0, stratify = Y)"
   ]
  },
  {
   "cell_type": "code",
   "execution_count": 91,
   "metadata": {},
   "outputs": [
    {
     "name": "stdout",
     "output_type": "stream",
     "text": [
      "Distribution of classes of dependent variable in train :\n",
      "0    3767\n",
      "1     513\n",
      "Name: Annual Income, dtype: int64\n",
      "\n",
      " Distribution of classes of dependent variable in test :\n",
      "0    943\n",
      "1    128\n",
      "Name: Annual Income, dtype: int64\n"
     ]
    }
   ],
   "source": [
    "print(\"Distribution of classes of dependent variable in train :\")\n",
    "print(Y_train.value_counts())\n",
    "\n",
    "print(\"\\n Distribution of classes of dependent variable in test :\")\n",
    "print(Y_test.value_counts())"
   ]
  },
  {
   "cell_type": "code",
   "execution_count": 92,
   "metadata": {},
   "outputs": [
    {
     "data": {
      "text/plain": [
       "RandomForestClassifier(bootstrap=True, ccp_alpha=0.0, class_weight=None,\n",
       "                       criterion='gini', max_depth=None, max_features='auto',\n",
       "                       max_leaf_nodes=None, max_samples=None,\n",
       "                       min_impurity_decrease=0.0, min_impurity_split=None,\n",
       "                       min_samples_leaf=1, min_samples_split=2,\n",
       "                       min_weight_fraction_leaf=0.0, n_estimators=50,\n",
       "                       n_jobs=None, oob_score=False, random_state=0, verbose=0,\n",
       "                       warm_start=False)"
      ]
     },
     "execution_count": 92,
     "metadata": {},
     "output_type": "execute_result"
    }
   ],
   "source": [
    "# Create a rf_classifier object with number of trees set to 50\n",
    "rf_classifier = RandomForestClassifier(n_estimators=50,random_state=0)\n",
    "\n",
    "# Fit the object to train dataset\n",
    "rf_classifier.fit(X_train, Y_train)"
   ]
  },
  {
   "cell_type": "code",
   "execution_count": 93,
   "metadata": {},
   "outputs": [],
   "source": [
    "train_preds =  rf_classifier.predict(X_train)\n",
    "test_preds  = rf_classifier.predict(X_test)"
   ]
  },
  {
   "cell_type": "code",
   "execution_count": 94,
   "metadata": {
    "scrolled": true
   },
   "outputs": [
    {
     "data": {
      "text/plain": [
       "0.8850467289719626"
      ]
     },
     "execution_count": 94,
     "metadata": {},
     "output_type": "execute_result"
    }
   ],
   "source": [
    "# Obtain accuracy on train set\n",
    "accuracy_score(Y_train,train_preds)"
   ]
  },
  {
   "cell_type": "markdown",
   "metadata": {},
   "source": [
    "## Accuracy"
   ]
  },
  {
   "cell_type": "code",
   "execution_count": 95,
   "metadata": {},
   "outputs": [
    {
     "data": {
      "text/plain": [
       "0.8823529411764706"
      ]
     },
     "execution_count": 95,
     "metadata": {},
     "output_type": "execute_result"
    }
   ],
   "source": [
    "# Obtain accuracy on test set\n",
    "accuracy_score(Y_test,test_preds)"
   ]
  },
  {
   "cell_type": "code",
   "execution_count": 96,
   "metadata": {
    "scrolled": true
   },
   "outputs": [
    {
     "data": {
      "text/plain": [
       "array([[3746,   21],\n",
       "       [ 471,   42]], dtype=int64)"
      ]
     },
     "execution_count": 96,
     "metadata": {},
     "output_type": "execute_result"
    }
   ],
   "source": [
    "# Obtain the confusion matrix on train set\n",
    "confusion_matrix(Y_train,train_preds)"
   ]
  },
  {
   "cell_type": "markdown",
   "metadata": {},
   "source": [
    "## Confusion Matrix"
   ]
  },
  {
   "cell_type": "code",
   "execution_count": 97,
   "metadata": {
    "scrolled": true
   },
   "outputs": [
    {
     "data": {
      "text/plain": [
       "array([[935,   8],\n",
       "       [118,  10]], dtype=int64)"
      ]
     },
     "execution_count": 97,
     "metadata": {},
     "output_type": "execute_result"
    }
   ],
   "source": [
    "# Obtain the confusion matrix on test set\n",
    "confusion_matrix(Y_test,test_preds)"
   ]
  },
  {
   "cell_type": "markdown",
   "metadata": {},
   "source": [
    "## ROC AUC Curve"
   ]
  },
  {
   "cell_type": "code",
   "execution_count": 98,
   "metadata": {},
   "outputs": [
    {
     "data": {
      "image/png": "[encoded data removed]",
      "text/plain": [
       "<Figure size 432x288 with 1 Axes>"
      ]
     },
     "metadata": {
      "needs_background": "light"
     },
     "output_type": "display_data"
    }
   ],
   "source": [
    "import sklearn.metrics as metrics\n",
    "# calculate the fpr and tpr for all thresholds of the classification\n",
    "probs = rf_classifier.predict_proba(X_test)\n",
    "preds = probs[:,1]\n",
    "fpr, tpr, threshold = metrics.roc_curve(Y_test, preds)\n",
    "roc_auc = metrics.auc(fpr, tpr)\n",
    "\n",
    "# method I: plt\n",
    "import matplotlib.pyplot as plt\n",
    "plt.title('Receiver Operating Characteristic')\n",
    "plt.plot(fpr, tpr, 'b', label = 'AUC = %0.2f' % roc_auc)\n",
    "plt.legend(loc = 'lower right')\n",
    "plt.plot([0, 1], [0, 1],'r--')\n",
    "plt.xlim([0, 1])\n",
    "plt.ylim([0, 1])\n",
    "plt.ylabel('True Positive Rate')\n",
    "plt.xlabel('False Positive Rate')\n",
    "plt.show()"
   ]
  },
  {
   "cell_type": "code",
   "execution_count": 30,
   "metadata": {},
   "outputs": [],
   "source": [
    "import numpy as np\n",
    "\n",
    "features = X_train.columns\n",
    "importances = rf_classifier.feature_importances_\n",
    "indices = np.argsort(importances)"
   ]
  },
  {
   "cell_type": "code",
   "execution_count": 31,
   "metadata": {},
   "outputs": [
    {
     "data": {
      "image/png": "[encoded data removed]",
      "text/plain": [
       "<Figure size 432x288 with 1 Axes>"
      ]
     },
     "metadata": {
      "needs_background": "light"
     },
     "output_type": "display_data"
    }
   ],
   "source": [
    "plt.title('Feature Importance')\n",
    "plt.barh(range(len(indices)), importances[indices], color='black', align='center')\n",
    "plt.yticks(range(len(indices)), [features[i] for i in indices])\n",
    "plt.xlabel('Relative Importance')\n",
    "\n",
    "plt.show()"
   ]
  },
  {
   "cell_type": "code",
   "execution_count": null,
   "metadata": {},
   "outputs": [],
   "source": []
  }
 ],
 "metadata": {
  "kernelspec": {
   "display_name": "Python 3",
   "language": "python",
   "name": "python3"
  },
  "language_info": {
   "codemirror_mode": {
    "name": "ipython",
    "version": 3
   },
   "file_extension": ".py",
   "mimetype": "text/x-python",
   "name": "python",
   "nbconvert_exporter": "python",
   "pygments_lexer": "ipython3",
   "version": "3.7.3"
  }
 },
 "nbformat": 4,
 "nbformat_minor": 2
}
